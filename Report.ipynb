{
 "cells": [
  {
   "cell_type": "markdown",
   "metadata": {},
   "source": [
    "# Capstone-Project---The-Battle-of-Neighborhoods"
   ]
  },
  {
   "cell_type": "markdown",
   "metadata": {},
   "source": [
    "## 1. Introduction"
   ]
  },
  {
   "cell_type": "markdown",
   "metadata": {},
   "source": [
    "### 1.1 Background"
   ]
  },
  {
   "cell_type": "markdown",
   "metadata": {},
   "source": [
    "Coffee is one of the most widely consumed beverages worldwide and in the United States. Millions of consumers across the country cannot imagine starting their day without a hot cup of coffee. Universities, community colleges, trade schools, and similar places have lots of students who are always writing, studying, and working on projects that, oftentimes, cause them to get little to no sleep. A study has shown that a whopping 92% of students has consumed some form of caffeine during the school year, and coffee was the primary source.\n",
    "\n",
    "Although people have been drinking coffee for hundreds of years, there are still new trends entering the market every year. The purpose of this study is to provide reference to young enterpreneurs who plan to open a start-up coffee shop and the target customers are college/university students. They have to find out the whether Oklahoma or New York City will be the best location for them to have their very first coffee shop. This study is important for the positioning of the coffee shop before they work on the other business strategies. Positioning includes various factors, from location to the price of the product or service to the message they use to promote the business, online and offline. Other than that, best location can increase brand visibility and easy access for the students will be a huge advantage to the coffee shop."
   ]
  },
  {
   "cell_type": "markdown",
   "metadata": {},
   "source": [
    "### 1.2 Problem"
   ]
  },
  {
   "cell_type": "markdown",
   "metadata": {},
   "source": [
    "Data that might contribute to determine the best location to open a coffee shop might include the existing coffee shops in the cities, the universities in the cities, nearby bookstore or library, and the rental cost at the cities. This project aims to find out the best location that having more advantages to open a coffee shop."
   ]
  },
  {
   "cell_type": "markdown",
   "metadata": {},
   "source": [
    "## 2. Data Acquisition and Cleaning"
   ]
  },
  {
   "cell_type": "markdown",
   "metadata": {},
   "source": [
    "### 2.1 Data Sources and Methodology Selection"
   ]
  },
  {
   "cell_type": "markdown",
   "metadata": {},
   "source": [
    "For this study, the data of neighborhoods of Oklahoma and New York will be used.\n",
    "\n",
    "Other than that, the top 100 venues will be get from Foursquare to study on the number of coffee shops they have in these two cities, and bookstore will also be derived from it. Cluster mapping will be utilized to see the scattering and location of those existing coffee shops.\n",
    "\n",
    "\n",
    "\n",
    "With the results, we are able to decide which city will provides more advantages to open a coffee shop, while taking the target customers and the easy of access for students into consideration."
   ]
  },
  {
   "cell_type": "markdown",
   "metadata": {},
   "source": [
    "## 3. Results"
   ]
  },
  {
   "cell_type": "markdown",
   "metadata": {},
   "source": [
    "As a results, New York City has proven to have more advantage for the start-up coffee shop compared to Toronto. According to the study, Toronto has 16 coffee shops and 1 bookstore in the Top 100 Venues in Toronto returned by Foursquare. On the other hand, there are 7 coffee shops and 1 bookstore in the Top 100 Venues in New York returned by Foursquare."
   ]
  },
  {
   "cell_type": "markdown",
   "metadata": {},
   "source": [
    "## 4. Discussion"
   ]
  },
  {
   "cell_type": "markdown",
   "metadata": {},
   "source": [
    "As observed from the Cluster Map, the coffee shops are more scattered in New York compared to Toronto. Also, there are 110 universities/insitutions in New York City while Toronto only have 22 universities according to UNIPAGE. Considering market competetion and cost of entering the market, New York city would be the better location for start-up coffee shop. The strategy location of New York City also more compatible with the positioning of the coffee shop, while target audience is college/university students."
   ]
  },
  {
   "cell_type": "markdown",
   "metadata": {},
   "source": [
    "## 5. Conslusion"
   ]
  },
  {
   "cell_type": "markdown",
   "metadata": {},
   "source": [
    "New York City has less competition for the coffee shops in the Top 100 Venues, it is good for start-up coffee shop to build up their brand. Also, with less cost of entering the market, they could use the fund to work on other business strategies, for exa"
   ]
  }
 ],
 "metadata": {
  "kernelspec": {
   "display_name": "Python",
   "language": "python",
   "name": "conda-env-python-py"
  },
  "language_info": {
   "codemirror_mode": {
    "name": "ipython",
    "version": 3
   },
   "file_extension": ".py",
   "mimetype": "text/x-python",
   "name": "python",
   "nbconvert_exporter": "python",
   "pygments_lexer": "ipython3",
   "version": "3.6.12"
  }
 },
 "nbformat": 4,
 "nbformat_minor": 4
}
