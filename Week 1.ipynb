{
 "cells": [
  {
   "cell_type": "markdown",
   "metadata": {},
   "source": [
    "# Capstone-Project---The-Battle-of-Neighborhoods"
   ]
  },
  {
   "cell_type": "markdown",
   "metadata": {},
   "source": [
    "## Introduction"
   ]
  },
  {
   "cell_type": "markdown",
   "metadata": {},
   "source": [
    "To study on the best location to open a start-up coffee shop, target customers are college/university students. Chicago or New York?\n",
    "\n",
    "This study is important for the positioning of the coffee shop before we work on other business strategies. Positioning includes various factors, from location to the price of the product or service to the message we use to promote the business, online and offline.\n",
    "\n",
    "Other than that, the best location can increase brand visibility and easy access to the students will be a huge advantage to the coffee shop."
   ]
  },
  {
   "cell_type": "markdown",
   "metadata": {},
   "source": [
    "## Description of the data and how it will be used to solve the problem."
   ]
  },
  {
   "cell_type": "markdown",
   "metadata": {},
   "source": [
    "In this study, the data of neighborhoods of Chicago and New York will be used.\n",
    "\n",
    "Other than that, the top 100 venues will be get from Foursquare to study on the number of coffee shops they have in these two cities, and the location of the universities will also be derived from it.\n",
    "\n",
    "With the results, we are able to decide which city will provides more advantages to open a coffee shop, while taking the target customers into consideration."
   ]
  }
 ],
 "metadata": {
  "kernelspec": {
   "display_name": "Python",
   "language": "python",
   "name": "conda-env-python-py"
  },
  "language_info": {
   "codemirror_mode": {
    "name": "ipython",
    "version": 3
   },
   "file_extension": ".py",
   "mimetype": "text/x-python",
   "name": "python",
   "nbconvert_exporter": "python",
   "pygments_lexer": "ipython3",
   "version": "3.6.12"
  }
 },
 "nbformat": 4,
 "nbformat_minor": 4
}
